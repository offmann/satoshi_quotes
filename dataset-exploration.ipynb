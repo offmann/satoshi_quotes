{
 "cells": [
  {
   "cell_type": "code",
   "execution_count": 9,
   "id": "3e8d14ba",
   "metadata": {},
   "outputs": [],
   "source": [
    "import pandas as pd"
   ]
  },
  {
   "cell_type": "code",
   "execution_count": 16,
   "id": "1c9611b2",
   "metadata": {},
   "outputs": [],
   "source": [
    "pd.options.display.max_colwidth = None \n",
    "\n",
    "df = pd.read_csv('satoshi_quotes.csv', sep=',', encoding='utf-8')"
   ]
  },
  {
   "cell_type": "code",
   "execution_count": 17,
   "id": "88f8af3e",
   "metadata": {},
   "outputs": [
    {
     "data": {
      "text/html": [
       "<div>\n",
       "<style scoped>\n",
       "    .dataframe tbody tr th:only-of-type {\n",
       "        vertical-align: middle;\n",
       "    }\n",
       "\n",
       "    .dataframe tbody tr th {\n",
       "        vertical-align: top;\n",
       "    }\n",
       "\n",
       "    .dataframe thead th {\n",
       "        text-align: right;\n",
       "    }\n",
       "</style>\n",
       "<table border=\"1\" class=\"dataframe\">\n",
       "  <thead>\n",
       "    <tr style=\"text-align: right;\">\n",
       "      <th></th>\n",
       "      <th>Unnamed: 0</th>\n",
       "      <th>domain</th>\n",
       "      <th>article_title</th>\n",
       "      <th>date</th>\n",
       "      <th>quote</th>\n",
       "    </tr>\n",
       "  </thead>\n",
       "  <tbody>\n",
       "    <tr>\n",
       "      <th>0</th>\n",
       "      <td>0</td>\n",
       "      <td>addresses</td>\n",
       "      <td>Bitcoin: A Peer-to-Peer Electronic Cash System</td>\n",
       "      <td>2008-10-31</td>\n",
       "      <td>As an additional firewall, a new key pair should be used for each transaction to keep them from being linked to a common owner. Some linking is still unavoidable with multi-input transactions, which necessarily reveal that their inputs were owned by the same owner. The risk is that if the owner of a key is revealed, linking could reveal other transactions that belonged to the same owner.</td>\n",
       "    </tr>\n",
       "    <tr>\n",
       "      <th>1</th>\n",
       "      <td>1</td>\n",
       "      <td>banks</td>\n",
       "      <td>Bitcoin open source implementation of P2P currency</td>\n",
       "      <td>2009-02-11</td>\n",
       "      <td>Banks must be trusted to hold our money and transfer it electronically, but they lend it out in waves of credit bubbles with barely a fraction in reserve. We have to trust them with our privacy, trust them not to let identity thieves drain our accounts. Their massive overhead costs make micropayments impossible.</td>\n",
       "    </tr>\n",
       "    <tr>\n",
       "      <th>2</th>\n",
       "      <td>2</td>\n",
       "      <td>cryptocurrency</td>\n",
       "      <td>Bitcoin: A Peer-to-Peer Electronic Cash System</td>\n",
       "      <td>2008-10-31</td>\n",
       "      <td>A purely peer-to-peer version of electronic cash would allow online payments to be sent directly from one party to another without going through a financial institution.</td>\n",
       "    </tr>\n",
       "    <tr>\n",
       "      <th>3</th>\n",
       "      <td>3</td>\n",
       "      <td>cryptocurrency</td>\n",
       "      <td>Bitcoin: A Peer-to-Peer Electronic Cash System</td>\n",
       "      <td>2008-10-31</td>\n",
       "      <td>What is needed is an electronic payment system based on cryptographic proof instead of trust, allowing any two willing parties to transact directly with each other without the need for a trusted third party. Transactions that are computationally impractical to reverse would protect sellers from fraud, and routine escrow mechanisms could easily be implemented to protect buyers.</td>\n",
       "    </tr>\n",
       "    <tr>\n",
       "      <th>4</th>\n",
       "      <td>4</td>\n",
       "      <td>cryptocurrency</td>\n",
       "      <td>Bitcoin: A Peer-to-Peer Electronic Cash System</td>\n",
       "      <td>2008-10-31</td>\n",
       "      <td>We need a way for the payee to know that the previous owners did not sign any earlier transactions. For our purposes, the earliest transaction is the one that counts, so we don't care about later attempts to double-spend. The only way to confirm the absence of a transaction is to be aware of all transactions. In the mint based model, the mint was aware of all transactions and decided which arrived first. To accomplish this without a trusted party, transactions must be publicly announced, and we need a system for participants to agree on a single history of the order in which they were received. The payee needs proof that at the time of each transaction, the majority of nodes agreed it was the first received.</td>\n",
       "    </tr>\n",
       "  </tbody>\n",
       "</table>\n",
       "</div>"
      ],
      "text/plain": [
       "   Unnamed: 0          domain  \\\n",
       "0           0       addresses   \n",
       "1           1           banks   \n",
       "2           2  cryptocurrency   \n",
       "3           3  cryptocurrency   \n",
       "4           4  cryptocurrency   \n",
       "\n",
       "                                        article_title        date  \\\n",
       "0      Bitcoin: A Peer-to-Peer Electronic Cash System  2008-10-31   \n",
       "1  Bitcoin open source implementation of P2P currency  2009-02-11   \n",
       "2      Bitcoin: A Peer-to-Peer Electronic Cash System  2008-10-31   \n",
       "3      Bitcoin: A Peer-to-Peer Electronic Cash System  2008-10-31   \n",
       "4      Bitcoin: A Peer-to-Peer Electronic Cash System  2008-10-31   \n",
       "\n",
       "                                                                                                                                                                                                                                                                                                                                                                                                                                                                                                                                                                                                                                                                                                                                           quote  \n",
       "0                                                                                                                                                                                                                                                                                                                                         As an additional firewall, a new key pair should be used for each transaction to keep them from being linked to a common owner. Some linking is still unavoidable with multi-input transactions, which necessarily reveal that their inputs were owned by the same owner. The risk is that if the owner of a key is revealed, linking could reveal other transactions that belonged to the same owner.  \n",
       "1                                                                                                                                                                                                                                                                                                                                                                                                                      Banks must be trusted to hold our money and transfer it electronically, but they lend it out in waves of credit bubbles with barely a fraction in reserve. We have to trust them with our privacy, trust them not to let identity thieves drain our accounts. Their massive overhead costs make micropayments impossible.  \n",
       "2                                                                                                                                                                                                                                                                                                                                                                                                                                                                                                                                                                      A purely peer-to-peer version of electronic cash would allow online payments to be sent directly from one party to another without going through a financial institution.  \n",
       "3                                                                                                                                                                                                                                                                                                                                                    What is needed is an electronic payment system based on cryptographic proof instead of trust, allowing any two willing parties to transact directly with each other without the need for a trusted third party. Transactions that are computationally impractical to reverse would protect sellers from fraud, and routine escrow mechanisms could easily be implemented to protect buyers.  \n",
       "4  We need a way for the payee to know that the previous owners did not sign any earlier transactions. For our purposes, the earliest transaction is the one that counts, so we don't care about later attempts to double-spend. The only way to confirm the absence of a transaction is to be aware of all transactions. In the mint based model, the mint was aware of all transactions and decided which arrived first. To accomplish this without a trusted party, transactions must be publicly announced, and we need a system for participants to agree on a single history of the order in which they were received. The payee needs proof that at the time of each transaction, the majority of nodes agreed it was the first received.  "
      ]
     },
     "execution_count": 17,
     "metadata": {},
     "output_type": "execute_result"
    }
   ],
   "source": [
    "df.head()"
   ]
  },
  {
   "cell_type": "code",
   "execution_count": 29,
   "id": "101bafcd",
   "metadata": {},
   "outputs": [
    {
     "name": "stdout",
     "output_type": "stream",
     "text": [
      "<class 'pandas.core.frame.DataFrame'>\n",
      "RangeIndex: 139 entries, 0 to 138\n",
      "Data columns (total 5 columns):\n",
      " #   Column         Non-Null Count  Dtype \n",
      "---  ------         --------------  ----- \n",
      " 0   Unnamed: 0     139 non-null    int64 \n",
      " 1   domain         139 non-null    object\n",
      " 2   article_title  139 non-null    object\n",
      " 3   date           139 non-null    object\n",
      " 4   quote          139 non-null    object\n",
      "dtypes: int64(1), object(4)\n",
      "memory usage: 5.6+ KB\n"
     ]
    }
   ],
   "source": [
    "df.info()"
   ]
  },
  {
   "cell_type": "code",
   "execution_count": 31,
   "id": "f7ce3e18",
   "metadata": {},
   "outputs": [],
   "source": [
    "def preprocess(quote):\n",
    "\n",
    "    quote = quote.replace(\"\\n\",\" \")\n",
    "    \n",
    "    return quote"
   ]
  },
  {
   "cell_type": "code",
   "execution_count": 25,
   "id": "53be7e78",
   "metadata": {},
   "outputs": [],
   "source": [
    "df['quote'] = df['quote'].map(lambda x:preprocess(x))"
   ]
  },
  {
   "cell_type": "markdown",
   "id": "4ad0fcd0",
   "metadata": {},
   "source": [
    "### General statistics"
   ]
  },
  {
   "cell_type": "code",
   "execution_count": 11,
   "id": "bb1d09c8",
   "metadata": {},
   "outputs": [
    {
     "data": {
      "text/plain": [
       "nodes             21\n",
       "transactions      19\n",
       "mining            19\n",
       "proof-of-work     18\n",
       "general            9\n",
       "cryptocurrency     6\n",
       "economics          6\n",
       "fees               6\n",
       "releases           6\n",
       "micropayments      6\n",
       "privacy            6\n",
       "difficulty         5\n",
       "encryption         3\n",
       "scalability        3\n",
       "motives            2\n",
       "addresses          1\n",
       "banks              1\n",
       "government         1\n",
       "identity           1\n",
       "Name: domain, dtype: int64"
      ]
     },
     "execution_count": 11,
     "metadata": {},
     "output_type": "execute_result"
    }
   ],
   "source": [
    "df.domain.value_counts()"
   ]
  },
  {
   "cell_type": "code",
   "execution_count": 12,
   "id": "8303514f",
   "metadata": {},
   "outputs": [
    {
     "data": {
      "text/plain": [
       "Bitcoin P2P e-cash paper                                                     46\n",
       "Bitcoin: A Peer-to-Peer Electronic Cash System                               34\n",
       "Bitcoin open source implementation of P2P currency                           10\n",
       "Re: Scalability                                                               5\n",
       "Re: What's with this odd generation?                                          4\n",
       "Re: Always pay transaction fee?                                               4\n",
       "Re: Dealing with SHA-256 Collisions                                           2\n",
       "Re: Current Bitcoin economic model is unsustainable                           2\n",
       "Re: Repost: Request: Make this anonymous?                                     2\n",
       "Re: Repost: How anonymous are bitcoins?                                       2\n",
       "Re: Bitcoin minting is thermodynamically perverse                             2\n",
       "Re: A few suggestions                                                         2\n",
       "Re: Flood attack 0.00000001 BC                                                2\n",
       "Bitcoin 0.3 released!                                                         1\n",
       "Re: Website translations                                                      1\n",
       "Re: Repost: Bitcoin Maturation                                                1\n",
       "Re: checkpointing the block chain                                             1\n",
       "Re: Scalability and transaction rate                                          1\n",
       "Re: URI-scheme for bitcoin                                                    1\n",
       "Re: Potential disaster scenario                                               1\n",
       "Re: Transactions and Scripts: DUP HASH160 ... EQUALVERIFY CHECKSIG            1\n",
       "Re: Porn                                                                      1\n",
       "Re: PC World Article on Bitcoin                                               1\n",
       "Re: BitCoin Wikipedia page DELETED!!!                                         1\n",
       "Re: Escrow                                                                    1\n",
       "Re: md5?                                                                      1\n",
       "Re: They want to delete the Wikipedia article                                 1\n",
       "Re: Slashdot Submission for 1.0                                               1\n",
       "Re: Get 5 free bitcoins from freebitcoins.appspot.com                         1\n",
       "Re: who is bitcoin.com                                                        1\n",
       "Re: Bitcoin does NOT violate Mises' Regression Theorem                        1\n",
       "Re: BTC Vulnerability? (Massive Attack against BTC system. Is it really?)     1\n",
       "Re: The dollar cost of bitmining energy                                       1\n",
       "Re: Proof-of-work difficulty increasing                                       1\n",
       "Re: I broke my wallet, sends never confirm now.                               1\n",
       "Name: article_title, dtype: int64"
      ]
     },
     "execution_count": 12,
     "metadata": {},
     "output_type": "execute_result"
    }
   ],
   "source": [
    "df.article_title.value_counts()"
   ]
  },
  {
   "cell_type": "code",
   "execution_count": null,
   "id": "4897d90c",
   "metadata": {},
   "outputs": [],
   "source": []
  }
 ],
 "metadata": {
  "kernelspec": {
   "display_name": "Python 3 (ipykernel)",
   "language": "python",
   "name": "python3"
  },
  "language_info": {
   "codemirror_mode": {
    "name": "ipython",
    "version": 3
   },
   "file_extension": ".py",
   "mimetype": "text/x-python",
   "name": "python",
   "nbconvert_exporter": "python",
   "pygments_lexer": "ipython3",
   "version": "3.9.7"
  }
 },
 "nbformat": 4,
 "nbformat_minor": 5
}
